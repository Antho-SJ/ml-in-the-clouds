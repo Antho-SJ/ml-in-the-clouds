{
 "cells": [
  {
   "cell_type": "markdown",
   "metadata": {
    "slideshow": {
     "slide_type": "slide"
    }
   },
   "source": [
    "# ml-in-the-clouds\n",
    "<img src=\"img/Firefly un écureuil volant dans le ciel nuageux 44943.jpg\" alt=\"df_fusion\" width=\"64%\">\n"
   ]
  },
  {
   "cell_type": "markdown",
   "metadata": {
    "slideshow": {
     "slide_type": "subslide"
    }
   },
   "source": [
    "<img src=\"img/Trello.png\" alt=\"df_fusion\" width=\"130%\">"
   ]
  },
  {
   "cell_type": "markdown",
   "metadata": {
    "slideshow": {
     "slide_type": "slide"
    },
    "vscode": {
     "languageId": "plaintext"
    }
   },
   "source": [
    "## Data Exploration\n",
    "<img src=\"img/nuage_de_mots_love.png\" alt=\"df\" width=\"100%\">"
   ]
  },
  {
   "cell_type": "markdown",
   "metadata": {
    "slideshow": {
     "slide_type": "subslide"
    },
    "vscode": {
     "languageId": "plaintext"
    }
   },
   "source": [
    "<img src=\"img/dashboard.PNG\" alt=\"df_fusion\" width=\"100%\">"
   ]
  },
  {
   "cell_type": "markdown",
   "metadata": {
    "slideshow": {
     "slide_type": "slide"
    }
   },
   "source": [
    "## Préparation de la donnée\n",
    "<br><br><br><br><br><br><br>\n",
    "\n",
    "- On utilise `TfidfVectorizer` pour transformer des textes en vecteurs numériques pondérés par TF-IDF\n",
    "- Et `MultinomialNB` pour classer des données textuelles.\n",
    "\n"
   ]
  },
  {
   "cell_type": "markdown",
   "metadata": {
    "slideshow": {
     "slide_type": "slide"
    },
    "vscode": {
     "languageId": "plaintext"
    }
   },
   "source": [
    "## Pycaret\n",
    "\n",
    "<img src=\"img/pycaret_model_results.png\" alt=\"df_fusion\" width=\"80%\">\n",
    "<img src=\"img/Capture d'écran 2024-05-31 124816.png\" alt=\"df_fusion\" width=\"80%\">\n"
   ]
  },
  {
   "cell_type": "markdown",
   "metadata": {
    "slideshow": {
     "slide_type": "subslide"
    }
   },
   "source": [
    "### Grid Search\n",
    "\n",
    "\n",
    "<img src=\"img/pycaret_grid_search.png\" alt=\"df_fusion\" width=\"80%\">"
   ]
  },
  {
   "cell_type": "markdown",
   "metadata": {
    "slideshow": {
     "slide_type": "subslide"
    }
   },
   "source": [
    "\n",
    "## Results\n",
    "\n",
    "\n",
    "\n",
    "<img src=\"img/pycaret_results.png\" alt=\"df_fusion\" width=\"100%\">"
   ]
  },
  {
   "cell_type": "code",
   "execution_count": 1,
   "metadata": {
    "slideshow": {
     "slide_type": "skip"
    }
   },
   "outputs": [],
   "source": [
    "### Results\n",
    "\n",
    "\n",
    "\n",
    "# <img src=\"img/confusion_matrix.png\" alt=\"df_fusion\" width=\"50%\">\n",
    "\n",
    "# <img src=\"img/classification_report.png\" alt=\"df_fusion\" width=\"46%\">\n",
    "\n",
    "\n",
    "# <img src=\"img/pipeline.png\" alt=\"df_fusion\" width=\"97%\">\n",
    "\n",
    "\n",
    "# ### Results\n",
    "\n",
    "\n",
    "\n",
    "# <img src=\"img/confusion_matrix.png\" alt=\"df_fusion\" width=\"40%\">\n",
    "\n",
    "# <img src=\"img/classification_report.png\" alt=\"df_fusion\" width=\"37%\">\n",
    "\n",
    "\n",
    "# <img src=\"img/pipeline.png\" alt=\"df_fusion\" width=\"96%\">"
   ]
  },
  {
   "cell_type": "markdown",
   "metadata": {
    "slideshow": {
     "slide_type": "slide"
    },
    "vscode": {
     "languageId": "plaintext"
    }
   },
   "source": [
    "## DataRobot\n",
    "\n",
    "<img src=\"img/oversampling df_fusion.PNG\" alt=\"df_fusion\" width=\"83%\">"
   ]
  },
  {
   "cell_type": "markdown",
   "metadata": {
    "slideshow": {
     "slide_type": "subslide"
    },
    "vscode": {
     "languageId": "plaintext"
    }
   },
   "source": [
    "\n",
    "<img src=\"img/undersampling_fusion.PNG\" alt=\"Poor Squirel\" width=\"100%\">"
   ]
  },
  {
   "cell_type": "markdown",
   "metadata": {
    "slideshow": {
     "slide_type": "subslide"
    },
    "vscode": {
     "languageId": "plaintext"
    }
   },
   "source": [
    "<img src=\"img/undersampling.PNG\" alt=\"Poor Squirel\" width=\"100%\">"
   ]
  },
  {
   "cell_type": "markdown",
   "metadata": {
    "slideshow": {
     "slide_type": "subslide"
    }
   },
   "source": [
    "\n",
    "<img src=\"img/deploy.PNG\" alt=\"Poor Squirel\" width=\"100%\">"
   ]
  },
  {
   "cell_type": "markdown",
   "metadata": {
    "slideshow": {
     "slide_type": "slide"
    }
   },
   "source": [
    "##  Conclusion\n",
    "\n",
    "- Performances proches entre Pycaret et DataRobot\n",
    "- Performance encourageante sur le fichier Train et décevante sur le fichier Test\n",
    "- La fusion des deux datasets n'a pas été concluante\n",
    "\n",
    "- Application, Docker fonctionnels\n",
    "- model déployé sur AWS depuis DataRobot\n"
   ]
  }
 ],
 "metadata": {
  "kernelspec": {
   "display_name": "waterflow",
   "language": "python",
   "name": "python3"
  },
  "language_info": {
   "codemirror_mode": {
    "name": "ipython",
    "version": 3
   },
   "file_extension": ".py",
   "mimetype": "text/x-python",
   "name": "python",
   "nbconvert_exporter": "python",
   "pygments_lexer": "ipython3",
   "version": "3.10.0"
  }
 },
 "nbformat": 4,
 "nbformat_minor": 2
}
